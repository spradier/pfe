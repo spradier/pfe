{
 "cells": [
  {
   "cell_type": "code",
   "execution_count": 1,
   "metadata": {},
   "outputs": [],
   "source": [
    "from init import config\n",
    "from tensorflow.keras.applications import VGG16\n",
    "from tensorflow.keras.layers import Flatten\n",
    "from tensorflow.keras.layers import Dense\n",
    "from tensorflow.keras.layers import Input\n",
    "from tensorflow.keras.models import Model\n",
    "from tensorflow.keras.optimizers import Adam\n",
    "from tensorflow.keras.preprocessing.image import img_to_array\n",
    "from tensorflow.keras.preprocessing.image import load_img\n",
    "from sklearn.model_selection import train_test_split\n",
    "import matplotlib.pyplot as plt\n",
    "import numpy as np\n",
    "import cv2\n",
    "import os"
   ]
  },
  {
   "cell_type": "code",
   "execution_count": 2,
   "metadata": {},
   "outputs": [
    {
     "name": "stdout",
     "output_type": "stream",
     "text": [
      "[INFO] loading dataset...\n"
     ]
    }
   ],
   "source": [
    "# load the contents of the CSV annotations file\n",
    "print(\"[INFO] loading dataset...\")\n",
    "\n",
    "annotation_path = 'dataset/annotation.csv'\n",
    "rows = open(annotation_path).read().strip().split(\"\\n\")\n",
    "\n",
    "# list of data (images)\n",
    "# target output predictions\n",
    "# filenames\n",
    "data = []\n",
    "targets = []\n",
    "filenames = []"
   ]
  },
  {
   "cell_type": "code",
   "execution_count": 3,
   "metadata": {},
   "outputs": [],
   "source": [
    "# loop over the rows\n",
    "for row in rows:\n",
    "\t# split to have the filename and coordinate of the filename \n",
    "\trow = row.split(\",\")\n",
    "\t(filename, startX, startY, endX, endY) = row\n",
    "\t#endY = endY.split(\"\"\")\n",
    "\n",
    "\t# path \n",
    "\timage_path = 'dataset/drone'\n",
    "\timagePath = os.path.sep.join([image_path, filename])\n",
    "\timage = cv2.imread(imagePath)\n",
    "\t# dimension\n",
    "\th = image.shape[0]\n",
    "\tw = image.shape[1]\n",
    "\n",
    "\t# rescale the image with bounding box dimensions\n",
    "\tstartX = float(startX) / w\n",
    "\tstartY = float(startY) / h\n",
    "\tendX = float(endX) / w\n",
    "\tendY = float(endY) / h\n",
    "\n",
    "\t# load \n",
    "\timage = load_img(imagePath, target_size=(224, 224))\n",
    "\timage = img_to_array(image)\n",
    "\n",
    "\t# update our list of data, targets, and filenames\n",
    "\tdata.append(image)\n",
    "\ttargets.append((startX, startY, endX, endY))\n",
    "\tfilenames.append(filename)\n"
   ]
  },
  {
   "cell_type": "code",
   "execution_count": 6,
   "metadata": {},
   "outputs": [
    {
     "name": "stdout",
     "output_type": "stream",
     "text": [
      "[INFO] saving testing filenames...\n"
     ]
    }
   ],
   "source": [
    "# convert the data and targets to NumPy arrays, scaling the input\n",
    "# pixel intensities from the range [0, 255] to [0, 1]\n",
    "data = np.array(data, dtype=\"float32\") / 255.0\n",
    "targets = np.array(targets, dtype=\"float32\")\n",
    "\n",
    "# train test splt : training 10%\n",
    "split = train_test_split(data, targets, filenames, test_size=0.10,\n",
    "\trandom_state=42)\n",
    "\n",
    "# unpack the data split\n",
    "(trainImages, testImages) = split[:2]\n",
    "(trainTargets, testTargets) = split[2:4]\n",
    "(trainFilenames, testFilenames) = split[4:]\n",
    "\n",
    "# write the testing filenames to disk so that we can use then\n",
    "# when evaluating/testing our bounding box regressor\n",
    "print(\"[INFO] saving testing filenames...\")\n",
    "f = open(config.TEST_FILENAMES, \"w\")\n",
    "f.write(\"\\n\".join(testFilenames))\n",
    "f.close()"
   ]
  },
  {
   "cell_type": "code",
   "execution_count": 7,
   "metadata": {},
   "outputs": [
    {
     "name": "stdout",
     "output_type": "stream",
     "text": [
      "Downloading data from https://storage.googleapis.com/tensorflow/keras-applications/vgg16/vgg16_weights_tf_dim_ordering_tf_kernels_notop.h5\n",
      "58892288/58889256 [==============================] - 41s 1us/step\n",
      "58900480/58889256 [==============================] - 41s 1us/step\n"
     ]
    }
   ],
   "source": [
    "# load the VGG16 network\n",
    "vgg = VGG16(weights=\"imagenet\", include_top=False,\n",
    "\tinput_tensor=Input(shape=(224, 224, 3)))\n",
    "\n",
    "# freeze all VGG layers so they will *not* be updated during the\n",
    "# training process\n",
    "vgg.trainable = False\n",
    "\n",
    "# flatten the max-pooling output of VGG\n",
    "flatten = vgg.output\n",
    "flatten = Flatten()(flatten)\n",
    "\n",
    "# connected layer \n",
    "bboxHead = Dense(128, activation=\"relu\")(flatten)\n",
    "bboxHead = Dense(64, activation=\"relu\")(bboxHead)\n",
    "bboxHead = Dense(32, activation=\"relu\")(bboxHead)\n",
    "bboxHead = Dense(4, activation=\"sigmoid\")(bboxHead)\n",
    "\n",
    "# construct the model we will fine-tune for bounding box regression\n",
    "model = Model(inputs=vgg.input, outputs=bboxHead)"
   ]
  },
  {
   "cell_type": "code",
   "execution_count": 8,
   "metadata": {},
   "outputs": [
    {
     "name": "stderr",
     "output_type": "stream",
     "text": [
      "C:\\Users\\raf_user\\AppData\\Local\\Programs\\Python\\Python37\\lib\\site-packages\\keras\\optimizer_v2\\optimizer_v2.py:356: UserWarning: The `lr` argument is deprecated, use `learning_rate` instead.\n",
      "  \"The `lr` argument is deprecated, use `learning_rate` instead.\")\n"
     ]
    },
    {
     "name": "stdout",
     "output_type": "stream",
     "text": [
      "Model: \"model\"\n",
      "_________________________________________________________________\n",
      "Layer (type)                 Output Shape              Param #   \n",
      "=================================================================\n",
      "input_1 (InputLayer)         [(None, 224, 224, 3)]     0         \n",
      "_________________________________________________________________\n",
      "block1_conv1 (Conv2D)        (None, 224, 224, 64)      1792      \n",
      "_________________________________________________________________\n",
      "block1_conv2 (Conv2D)        (None, 224, 224, 64)      36928     \n",
      "_________________________________________________________________\n",
      "block1_pool (MaxPooling2D)   (None, 112, 112, 64)      0         \n",
      "_________________________________________________________________\n",
      "block2_conv1 (Conv2D)        (None, 112, 112, 128)     73856     \n",
      "_________________________________________________________________\n",
      "block2_conv2 (Conv2D)        (None, 112, 112, 128)     147584    \n",
      "_________________________________________________________________\n",
      "block2_pool (MaxPooling2D)   (None, 56, 56, 128)       0         \n",
      "_________________________________________________________________\n",
      "block3_conv1 (Conv2D)        (None, 56, 56, 256)       295168    \n",
      "_________________________________________________________________\n",
      "block3_conv2 (Conv2D)        (None, 56, 56, 256)       590080    \n",
      "_________________________________________________________________\n",
      "block3_conv3 (Conv2D)        (None, 56, 56, 256)       590080    \n",
      "_________________________________________________________________\n",
      "block3_pool (MaxPooling2D)   (None, 28, 28, 256)       0         \n",
      "_________________________________________________________________\n",
      "block4_conv1 (Conv2D)        (None, 28, 28, 512)       1180160   \n",
      "_________________________________________________________________\n",
      "block4_conv2 (Conv2D)        (None, 28, 28, 512)       2359808   \n",
      "_________________________________________________________________\n",
      "block4_conv3 (Conv2D)        (None, 28, 28, 512)       2359808   \n",
      "_________________________________________________________________\n",
      "block4_pool (MaxPooling2D)   (None, 14, 14, 512)       0         \n",
      "_________________________________________________________________\n",
      "block5_conv1 (Conv2D)        (None, 14, 14, 512)       2359808   \n",
      "_________________________________________________________________\n",
      "block5_conv2 (Conv2D)        (None, 14, 14, 512)       2359808   \n",
      "_________________________________________________________________\n",
      "block5_conv3 (Conv2D)        (None, 14, 14, 512)       2359808   \n",
      "_________________________________________________________________\n",
      "block5_pool (MaxPooling2D)   (None, 7, 7, 512)         0         \n",
      "_________________________________________________________________\n",
      "flatten (Flatten)            (None, 25088)             0         \n",
      "_________________________________________________________________\n",
      "dense (Dense)                (None, 128)               3211392   \n",
      "_________________________________________________________________\n",
      "dense_1 (Dense)              (None, 64)                8256      \n",
      "_________________________________________________________________\n",
      "dense_2 (Dense)              (None, 32)                2080      \n",
      "_________________________________________________________________\n",
      "dense_3 (Dense)              (None, 4)                 132       \n",
      "=================================================================\n",
      "Total params: 17,936,548\n",
      "Trainable params: 3,221,860\n",
      "Non-trainable params: 14,714,688\n",
      "_________________________________________________________________\n",
      "None\n",
      "[INFO] training bounding box regressor...\n",
      "Epoch 1/25\n",
      "28/28 [==============================] - 133s 5s/step - loss: 0.0256 - val_loss: 0.0143\n",
      "Epoch 2/25\n",
      "28/28 [==============================] - 153s 5s/step - loss: 0.0119 - val_loss: 0.0103\n",
      "Epoch 3/25\n",
      "28/28 [==============================] - 152s 5s/step - loss: 0.0086 - val_loss: 0.0092\n",
      "Epoch 4/25\n",
      "28/28 [==============================] - 152s 5s/step - loss: 0.0064 - val_loss: 0.0086\n",
      "Epoch 5/25\n",
      "28/28 [==============================] - 151s 5s/step - loss: 0.0052 - val_loss: 0.0088\n",
      "Epoch 6/25\n",
      "28/28 [==============================] - 153s 5s/step - loss: 0.0041 - val_loss: 0.0087\n",
      "Epoch 7/25\n",
      "28/28 [==============================] - 157s 6s/step - loss: 0.0034 - val_loss: 0.0079\n",
      "Epoch 8/25\n",
      "28/28 [==============================] - 155s 6s/step - loss: 0.0027 - val_loss: 0.0078\n",
      "Epoch 9/25\n",
      "28/28 [==============================] - 157s 6s/step - loss: 0.0022 - val_loss: 0.0077\n",
      "Epoch 10/25\n",
      "28/28 [==============================] - 151s 5s/step - loss: 0.0020 - val_loss: 0.0077\n",
      "Epoch 11/25\n",
      "28/28 [==============================] - 151s 5s/step - loss: 0.0017 - val_loss: 0.0076\n",
      "Epoch 12/25\n",
      "28/28 [==============================] - 152s 5s/step - loss: 0.0014 - val_loss: 0.0074\n",
      "Epoch 13/25\n",
      "28/28 [==============================] - 151s 5s/step - loss: 0.0012 - val_loss: 0.0075\n",
      "Epoch 14/25\n",
      "28/28 [==============================] - 154s 6s/step - loss: 0.0011 - val_loss: 0.0075\n",
      "Epoch 15/25\n",
      "28/28 [==============================] - 158s 6s/step - loss: 8.9856e-04 - val_loss: 0.0074\n",
      "Epoch 16/25\n",
      "28/28 [==============================] - 156s 6s/step - loss: 8.0074e-04 - val_loss: 0.0074\n",
      "Epoch 17/25\n",
      "28/28 [==============================] - 153s 5s/step - loss: 6.9415e-04 - val_loss: 0.0076\n",
      "Epoch 18/25\n",
      "28/28 [==============================] - 157s 6s/step - loss: 6.4463e-04 - val_loss: 0.0074\n",
      "Epoch 19/25\n",
      "28/28 [==============================] - 153s 5s/step - loss: 5.8220e-04 - val_loss: 0.0075\n",
      "Epoch 20/25\n",
      "28/28 [==============================] - 152s 5s/step - loss: 5.4582e-04 - val_loss: 0.0074\n",
      "Epoch 21/25\n",
      "28/28 [==============================] - 158s 6s/step - loss: 4.9058e-04 - val_loss: 0.0077\n",
      "Epoch 22/25\n",
      "28/28 [==============================] - 153s 5s/step - loss: 4.7057e-04 - val_loss: 0.0076\n",
      "Epoch 23/25\n",
      "28/28 [==============================] - 153s 5s/step - loss: 4.3814e-04 - val_loss: 0.0073\n",
      "Epoch 24/25\n",
      "28/28 [==============================] - 159s 6s/step - loss: 4.1659e-04 - val_loss: 0.0075\n",
      "Epoch 25/25\n",
      "28/28 [==============================] - 160s 6s/step - loss: 3.9400e-04 - val_loss: 0.0075\n",
      "[INFO] saving object detector model...\n"
     ]
    },
    {
     "data": {
      "image/png": "[encoded data removed]",
      "text/plain": [
       "<Figure size 432x288 with 1 Axes>"
      ]
     },
     "metadata": {},
     "output_type": "display_data"
    }
   ],
   "source": [
    "# initialize the optimizer, compile the model, and show the model\n",
    "# summary\n",
    "opt = Adam(lr=config.INIT_LR)\n",
    "model.compile(loss=\"mse\", optimizer=opt)\n",
    "print(model.summary())\n",
    "\n",
    "# train the network for bounding box regression\n",
    "print(\"[INFO] training bounding box regressor...\")\n",
    "H = model.fit(\n",
    "\ttrainImages, trainTargets,\n",
    "\tvalidation_data=(testImages, testTargets),\n",
    "\tbatch_size=config.BATCH_SIZE,\n",
    "\tepochs=config.NUM_EPOCHS,\n",
    "\tverbose=1)\n",
    "\n",
    "# serialize the model to disk\n",
    "print(\"[INFO] saving object detector model...\")\n",
    "model.save(config.MODEL_PATH, save_format=\"h5\")\n",
    "\n",
    "# plot the model training history\n",
    "N = config.NUM_EPOCHS\n",
    "plt.style.use(\"ggplot\")\n",
    "plt.figure()\n",
    "plt.plot(np.arange(0, N), H.history[\"loss\"], label=\"train_loss\")\n",
    "plt.plot(np.arange(0, N), H.history[\"val_loss\"], label=\"val_loss\")\n",
    "plt.title(\"Bounding Box Regression Loss on Training Set\")\n",
    "plt.xlabel(\"Epoch #\")\n",
    "plt.ylabel(\"Loss\")\n",
    "plt.legend(loc=\"lower left\")\n",
    "plt.savefig(config.PLOT_PATH)"
   ]
  }
 ],
 "metadata": {
  "interpreter": {
   "hash": "926fc0606cea67b44fe8a8b6b79ea8d12e2eaf7486a55cdc985fc3f488db8ae9"
  },
  "kernelspec": {
   "display_name": "Python 3.7.0 64-bit",
   "language": "python",
   "name": "python3"
  },
  "language_info": {
   "codemirror_mode": {
    "name": "ipython",
    "version": 3
   },
   "file_extension": ".py",
   "mimetype": "text/x-python",
   "name": "python",
   "nbconvert_exporter": "python",
   "pygments_lexer": "ipython3",
   "version": "3.7.0"
  },
  "orig_nbformat": 4
 },
 "nbformat": 4,
 "nbformat_minor": 2
}
