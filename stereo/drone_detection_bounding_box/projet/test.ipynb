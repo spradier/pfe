{
 "cells": [
  {
   "cell_type": "code",
   "execution_count": 17,
   "metadata": {},
   "outputs": [],
   "source": [
    "import os\n",
    "import shutil"
   ]
  },
  {
   "cell_type": "code",
   "execution_count": 18,
   "metadata": {},
   "outputs": [],
   "source": [
    "drone_path = \"dataset/drone\"\n",
    "drone_test_path = \"dataset/drone_test\"\n",
    "file_tomove = \"output/test_images.txt\""
   ]
  },
  {
   "cell_type": "code",
   "execution_count": 19,
   "metadata": {},
   "outputs": [
    {
     "name": "stdout",
     "output_type": "stream",
     "text": [
      "['moto02408.png']\n"
     ]
    }
   ],
   "source": [
    "a_file = open(file_tomove, \"r\")\n",
    "\n",
    "list_of_lists = []\n",
    "for line in a_file:\n",
    "  stripped_line = line.strip()\n",
    "  line_list = stripped_line.split()\n",
    "  list_of_lists.append(line_list)\n",
    "\n",
    "a_file.close()\n",
    "\n",
    "print(list_of_lists[2])"
   ]
  },
  {
   "cell_type": "code",
   "execution_count": 25,
   "metadata": {},
   "outputs": [
    {
     "data": {
      "text/plain": [
       "31"
      ]
     },
     "execution_count": 25,
     "metadata": {},
     "output_type": "execute_result"
    }
   ],
   "source": [
    "import glob\n",
    "files = glob.glob(\"dataset/drone_test/*.png\")\n",
    "len(files)"
   ]
  }
 ],
 "metadata": {
  "interpreter": {
   "hash": "926fc0606cea67b44fe8a8b6b79ea8d12e2eaf7486a55cdc985fc3f488db8ae9"
  },
  "kernelspec": {
   "display_name": "Python 3.7.0 64-bit",
   "language": "python",
   "name": "python3"
  },
  "language_info": {
   "codemirror_mode": {
    "name": "ipython",
    "version": 3
   },
   "file_extension": ".py",
   "mimetype": "text/x-python",
   "name": "python",
   "nbconvert_exporter": "python",
   "pygments_lexer": "ipython3",
   "version": "3.7.0"
  },
  "orig_nbformat": 4
 },
 "nbformat": 4,
 "nbformat_minor": 2
}
