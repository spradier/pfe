{
 "cells": [
  {
   "cell_type": "code",
   "execution_count": 1,
   "metadata": {},
   "outputs": [],
   "source": [
    "from init import config\n",
    "from tensorflow.keras.applications import VGG16\n",
    "from tensorflow.keras.layers import Flatten\n",
    "from tensorflow.keras.layers import Dense\n",
    "from tensorflow.keras.layers import Input\n",
    "from tensorflow.keras.models import Model\n",
    "from tensorflow.keras.optimizers import Adam\n",
    "from tensorflow.keras.preprocessing.image import img_to_array\n",
    "from tensorflow.keras.preprocessing.image import load_img\n",
    "from sklearn.model_selection import train_test_split\n",
    "import matplotlib.pyplot as plt\n",
    "import numpy as np\n",
    "import cv2\n",
    "import os"
   ]
  },
  {
   "cell_type": "code",
   "execution_count": 23,
   "metadata": {},
   "outputs": [
    {
     "name": "stdout",
     "output_type": "stream",
     "text": [
      "[INFO] loading dataset...\n"
     ]
    }
   ],
   "source": [
    "# load the contents of the CSV annotations file\n",
    "print(\"[INFO] loading dataset...\")\n",
    "\n",
    "annotation_path = 'dataset/annotation.csv'\n",
    "rows = open(annotation_path).read().strip().split(\"\\n\")\n",
    "\n",
    "# initialize the list of data (images), our target output predictions\n",
    "# (bounding box coordinates), along with the filenames of the\n",
    "# individual images\n",
    "data = []\n",
    "targets = []\n",
    "filenames = []"
   ]
  },
  {
   "cell_type": "code",
   "execution_count": 24,
   "metadata": {},
   "outputs": [],
   "source": [
    "# loop over the rows\n",
    "for row in rows:\n",
    "\t# break the row into the filename and bounding box coordinates\n",
    "\trow = row.split(\",\")\n",
    "\t(filename, startX, startY, endX, endY) = row\n",
    "\t#endY = endY.split(\"\"\")\n",
    "\n",
    "\t# derive the path to the input image, load the image (in OpenCV\n",
    "\t# format), and grab its dimensions\n",
    "\timage_path = 'dataset/drone'\n",
    "\timagePath = os.path.sep.join([image_path, filename])\n",
    "\timage = cv2.imread(imagePath)\n",
    "\n"
   ]
  },
  {
   "cell_type": "code",
   "execution_count": 25,
   "metadata": {},
   "outputs": [
    {
     "name": "stdout",
     "output_type": "stream",
     "text": [
      "yoto10818.png\n",
      "439\n",
      "445\n"
     ]
    }
   ],
   "source": [
    "print(filename)\n",
    "print(startX)\n",
    "print(endY)"
   ]
  }
 ],
 "metadata": {
  "interpreter": {
   "hash": "926fc0606cea67b44fe8a8b6b79ea8d12e2eaf7486a55cdc985fc3f488db8ae9"
  },
  "kernelspec": {
   "display_name": "Python 3.7.0 64-bit",
   "language": "python",
   "name": "python3"
  },
  "language_info": {
   "codemirror_mode": {
    "name": "ipython",
    "version": 3
   },
   "file_extension": ".py",
   "mimetype": "text/x-python",
   "name": "python",
   "nbconvert_exporter": "python",
   "pygments_lexer": "ipython3",
   "version": "3.7.0"
  },
  "orig_nbformat": 4
 },
 "nbformat": 4,
 "nbformat_minor": 2
}
